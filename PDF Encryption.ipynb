{
 "cells": [
  {
   "cell_type": "code",
   "execution_count": 1,
   "id": "abfa5bb3-723e-4293-b007-f26fac9278bb",
   "metadata": {},
   "outputs": [],
   "source": [
    "import pikepdf"
   ]
  },
  {
   "cell_type": "code",
   "execution_count": 5,
   "id": "ddb7af68-afc7-4eae-90ec-212dc52d2f9d",
   "metadata": {},
   "outputs": [],
   "source": [
    "pdf=pikepdf.Pdf.open(\"C:/certifications/edx full stack/final Professional Certificate _ edX.pdf\")\n",
    "no_extr=pikepdf.Permissions(extract=False)\n",
    "pdf.save(\"new_pdf.pdf\",encryption=pikepdf.Encryption(user=\"thoufiq\",owner=\"thoufiq\",allow=no_extr))"
   ]
  },
  {
   "cell_type": "code",
   "execution_count": null,
   "id": "2155e924-1574-4905-b35f-fbac2f2ad2da",
   "metadata": {},
   "outputs": [],
   "source": []
  }
 ],
 "metadata": {
  "kernelspec": {
   "display_name": "Python 3 (ipykernel)",
   "language": "python",
   "name": "python3"
  },
  "language_info": {
   "codemirror_mode": {
    "name": "ipython",
    "version": 3
   },
   "file_extension": ".py",
   "mimetype": "text/x-python",
   "name": "python",
   "nbconvert_exporter": "python",
   "pygments_lexer": "ipython3",
   "version": "3.12.4"
  }
 },
 "nbformat": 4,
 "nbformat_minor": 5
}
